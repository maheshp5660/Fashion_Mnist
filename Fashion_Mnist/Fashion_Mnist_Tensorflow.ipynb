{
 "cells": [
  {
   "cell_type": "code",
   "execution_count": 1,
   "id": "bc83b4cb",
   "metadata": {},
   "outputs": [],
   "source": [
    "## import Libraries "
   ]
  },
  {
   "cell_type": "code",
   "execution_count": 4,
   "id": "49f3f713",
   "metadata": {},
   "outputs": [],
   "source": [
    "import numpy as np\n",
    "import matplotlib.pyplot as plt\n",
    "%matplotlib inline\n",
    "import tensorflow as tf\n",
    "from tensorflow.keras.models import Sequential,load_model\n",
    "from tensorflow.keras.layers import Dense,Flatten,Conv2D,MaxPool2D,MaxPooling2D,Dropout\n",
    "from tensorflow.keras.preprocessing.image import ImageDataGenerator,load_img\n",
    "from tensorflow.keras.preprocessing import image\n",
    "from keras.datasets import fashion_mnist\n",
    "from tensorflow.keras.optimizers import Adam"
   ]
  },
  {
   "cell_type": "code",
   "execution_count": 5,
   "id": "4914ffa2",
   "metadata": {},
   "outputs": [
    {
     "name": "stdout",
     "output_type": "stream",
     "text": [
      "Downloading data from https://storage.googleapis.com/tensorflow/tf-keras-datasets/train-labels-idx1-ubyte.gz\n",
      "29515/29515 [==============================] - 0s 0us/step\n",
      "Downloading data from https://storage.googleapis.com/tensorflow/tf-keras-datasets/train-images-idx3-ubyte.gz\n",
      "26421880/26421880 [==============================] - 2s 0us/step\n",
      "Downloading data from https://storage.googleapis.com/tensorflow/tf-keras-datasets/t10k-labels-idx1-ubyte.gz\n",
      "5148/5148 [==============================] - 0s 0us/step\n",
      "Downloading data from https://storage.googleapis.com/tensorflow/tf-keras-datasets/t10k-images-idx3-ubyte.gz\n",
      "4422102/4422102 [==============================] - 0s 0us/step\n"
     ]
    }
   ],
   "source": [
    "(trainx , trainy),(testx,testy)=tf.keras.datasets.fashion_mnist.load_data()\n"
   ]
  },
  {
   "cell_type": "code",
   "execution_count": 6,
   "id": "39b22ff9",
   "metadata": {},
   "outputs": [
    {
     "name": "stdout",
     "output_type": "stream",
     "text": [
      "(60000, 28, 28)\n",
      "(60000,)\n"
     ]
    }
   ],
   "source": [
    "print(trainx.shape)\n",
    "print(trainy.shape)"
   ]
  },
  {
   "cell_type": "code",
   "execution_count": 7,
   "id": "5b3b93e0",
   "metadata": {},
   "outputs": [
    {
     "name": "stdout",
     "output_type": "stream",
     "text": [
      "(10000, 28, 28)\n",
      "(10000,)\n"
     ]
    }
   ],
   "source": [
    "print(testx.shape)\n",
    "print(testy.shape)"
   ]
  },
  {
   "cell_type": "code",
   "execution_count": 36,
   "id": "f325a766",
   "metadata": {},
   "outputs": [],
   "source": [
    "# ## Build Model\n",
    "# num_classes = 10\n",
    "# def model_arch():\n",
    "#     models = Sequential()\n",
    "    \n",
    "#     ##Convolution2D\n",
    "#     models.add(Conv2D(32 , kernel_size=(3,3), padding=\"same\" ,activation='relu' , input_shape=(224,224 ,1)))\n",
    "    \n",
    "#     ## MaxPool\n",
    "#     models.add(MaxPooling2D(pool_size=(2,2)))\n",
    "    \n",
    "#     ## Convolution2D\n",
    "#     models.add(Conv2D(64 , kernel_size=(3,3) , padding=\"same\" , activation='relu'))\n",
    "    \n",
    "#     ## MaxPooling\n",
    "#     models.add(MaxPooling2D(2))\n",
    "    \n",
    "#     models.add(Conv2D(128, kernel_size =(3,3), padding=\"same\" , activation=\"relu\"))\n",
    "\n",
    "#     models.add(MaxPooling2D(pool_size=(2, 2)))\n",
    " \n",
    "#     models.add(Flatten())\n",
    "#     models.add(Dense(128 , activation='relu'))\n",
    "#     models.add(Dropout(0.3))\n",
    "#     models.add(Dense(num_classes , activation=\"Softmax\"))\n",
    "#     return models"
   ]
  },
  {
   "cell_type": "code",
   "execution_count": 51,
   "id": "310133fe",
   "metadata": {},
   "outputs": [],
   "source": [
    "def model_arch():\n",
    "    models = Sequential()\n",
    "\n",
    "\n",
    "    models.add(Conv2D(64, (5, 5),padding=\"same\",activation=\"relu\",input_shape=(28, 28, 1)))\n",
    "\n",
    "\n",
    "    models.add(MaxPooling2D(pool_size=(2, 2)))\n",
    "    models.add(Conv2D(128, (5, 5), padding=\"same\",activation=\"relu\"))\n",
    "\n",
    "    models.add(MaxPooling2D(pool_size=(2, 2)))\n",
    "    models.add(Conv2D(256, (5, 5), padding=\"same\",activation=\"relu\"))\n",
    "\n",
    "    models.add(MaxPooling2D(pool_size=(2, 2)))\n",
    "\n",
    "\n",
    "    models.add(Flatten())\n",
    "    models.add(Dense(256, activation=\"relu\"))\n",
    "\n",
    "\n",
    "    models.add(Dense(10, activation=\"softmax\"))\n",
    "    return models\n"
   ]
  },
  {
   "cell_type": "code",
   "execution_count": 52,
   "id": "0c061bd4",
   "metadata": {},
   "outputs": [],
   "source": [
    "model = model_arch()"
   ]
  },
  {
   "cell_type": "code",
   "execution_count": null,
   "id": "6e714230",
   "metadata": {},
   "outputs": [],
   "source": []
  },
  {
   "cell_type": "code",
   "execution_count": 53,
   "id": "2541207b",
   "metadata": {},
   "outputs": [
    {
     "name": "stdout",
     "output_type": "stream",
     "text": [
      "Model: \"sequential_9\"\n",
      "_________________________________________________________________\n",
      " Layer (type)                Output Shape              Param #   \n",
      "=================================================================\n",
      " conv2d_11 (Conv2D)          (None, 28, 28, 64)        1664      \n",
      "                                                                 \n",
      " max_pooling2d_9 (MaxPooling  (None, 14, 14, 64)       0         \n",
      " 2D)                                                             \n",
      "                                                                 \n",
      " conv2d_12 (Conv2D)          (None, 14, 14, 128)       204928    \n",
      "                                                                 \n",
      " max_pooling2d_10 (MaxPoolin  (None, 7, 7, 128)        0         \n",
      " g2D)                                                            \n",
      "                                                                 \n",
      " conv2d_13 (Conv2D)          (None, 7, 7, 256)         819456    \n",
      "                                                                 \n",
      " max_pooling2d_11 (MaxPoolin  (None, 3, 3, 256)        0         \n",
      " g2D)                                                            \n",
      "                                                                 \n",
      " flatten_3 (Flatten)         (None, 2304)              0         \n",
      "                                                                 \n",
      " dense_5 (Dense)             (None, 256)               590080    \n",
      "                                                                 \n",
      " dense_6 (Dense)             (None, 10)                2570      \n",
      "                                                                 \n",
      "=================================================================\n",
      "Total params: 1,618,698\n",
      "Trainable params: 1,618,698\n",
      "Non-trainable params: 0\n",
      "_________________________________________________________________\n"
     ]
    }
   ],
   "source": [
    "model.compile(optimizer=Adam(learning_rate=1e-3),\n",
    "              loss='sparse_categorical_crossentropy',\n",
    "              metrics=['sparse_categorical_accuracy'])\n",
    " \n",
    "model.summary()"
   ]
  },
  {
   "cell_type": "code",
   "execution_count": 56,
   "id": "58f60ecb",
   "metadata": {},
   "outputs": [
    {
     "name": "stdout",
     "output_type": "stream",
     "text": [
      "Epoch 1/10\n",
      "20/20 [==============================] - 9s 370ms/step - loss: 0.0954 - sparse_categorical_accuracy: 0.9665 - val_loss: 0.2735 - val_sparse_categorical_accuracy: 0.9131\n",
      "Epoch 2/10\n",
      "20/20 [==============================] - 5s 234ms/step - loss: 0.0711 - sparse_categorical_accuracy: 0.9762 - val_loss: 0.2779 - val_sparse_categorical_accuracy: 0.9142\n",
      "Epoch 3/10\n",
      "20/20 [==============================] - 4s 189ms/step - loss: 0.0611 - sparse_categorical_accuracy: 0.9806 - val_loss: 0.2829 - val_sparse_categorical_accuracy: 0.9147\n",
      "Epoch 4/10\n",
      "20/20 [==============================] - 4s 192ms/step - loss: 0.0549 - sparse_categorical_accuracy: 0.9832 - val_loss: 0.2907 - val_sparse_categorical_accuracy: 0.9160\n",
      "Epoch 5/10\n",
      "20/20 [==============================] - 4s 202ms/step - loss: 0.0489 - sparse_categorical_accuracy: 0.9861 - val_loss: 0.2948 - val_sparse_categorical_accuracy: 0.9145\n",
      "Epoch 6/10\n",
      "20/20 [==============================] - 4s 202ms/step - loss: 0.0448 - sparse_categorical_accuracy: 0.9873 - val_loss: 0.3005 - val_sparse_categorical_accuracy: 0.9154\n",
      "Epoch 7/10\n",
      "20/20 [==============================] - 4s 182ms/step - loss: 0.0390 - sparse_categorical_accuracy: 0.9905 - val_loss: 0.3102 - val_sparse_categorical_accuracy: 0.9150\n",
      "Epoch 8/10\n",
      "20/20 [==============================] - 4s 190ms/step - loss: 0.0352 - sparse_categorical_accuracy: 0.9916 - val_loss: 0.3146 - val_sparse_categorical_accuracy: 0.9152\n",
      "Epoch 9/10\n",
      "20/20 [==============================] - 3s 174ms/step - loss: 0.0313 - sparse_categorical_accuracy: 0.9931 - val_loss: 0.3224 - val_sparse_categorical_accuracy: 0.9152\n",
      "Epoch 10/10\n",
      "20/20 [==============================] - 4s 193ms/step - loss: 0.0272 - sparse_categorical_accuracy: 0.9949 - val_loss: 0.3307 - val_sparse_categorical_accuracy: 0.9153\n"
     ]
    }
   ],
   "source": [
    "history = model.fit(trainx.astype(np.float32), trainy.astype(np.float32),\n",
    "                epochs=10,steps_per_epoch=20,validation_split=0.33\n",
    ")\n"
   ]
  },
  {
   "cell_type": "code",
   "execution_count": null,
   "id": "f2e4c9ef",
   "metadata": {},
   "outputs": [],
   "source": []
  },
  {
   "cell_type": "code",
   "execution_count": null,
   "id": "7e3f5573",
   "metadata": {},
   "outputs": [],
   "source": []
  },
  {
   "cell_type": "code",
   "execution_count": null,
   "id": "c88269b2",
   "metadata": {},
   "outputs": [],
   "source": []
  },
  {
   "cell_type": "code",
   "execution_count": null,
   "id": "c3892075",
   "metadata": {},
   "outputs": [],
   "source": []
  },
  {
   "cell_type": "code",
   "execution_count": 57,
   "id": "3852c7cb",
   "metadata": {},
   "outputs": [],
   "source": [
    "model.save('Model5.h5')\n",
    "\n",
    "saveModel = load_model('Model5.h5')"
   ]
  },
  {
   "cell_type": "code",
   "execution_count": null,
   "id": "f073ffef",
   "metadata": {},
   "outputs": [],
   "source": []
  }
 ],
 "metadata": {
  "kernelspec": {
   "display_name": "Python 3 (ipykernel)",
   "language": "python",
   "name": "python3"
  },
  "language_info": {
   "codemirror_mode": {
    "name": "ipython",
    "version": 3
   },
   "file_extension": ".py",
   "mimetype": "text/x-python",
   "name": "python",
   "nbconvert_exporter": "python",
   "pygments_lexer": "ipython3",
   "version": "3.8.10"
  }
 },
 "nbformat": 4,
 "nbformat_minor": 5
}
